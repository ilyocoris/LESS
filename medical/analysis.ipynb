{
 "cells": [
  {
   "cell_type": "code",
   "execution_count": null,
   "metadata": {},
   "outputs": [],
   "source": [
    "import os\n",
    "from tqdm import tqdm\n",
    "os.environ[\"CUDA_VISIBLE_DEVICES\"] = \"0,1,2,3\"\n",
    "import json\n",
    "from sentence_splitter import split_text_into_sentences\n",
    "from transformers import RobertaForSequenceClassification, RobertaTokenizer"
   ]
  },
  {
   "cell_type": "code",
   "execution_count": null,
   "metadata": {},
   "outputs": [],
   "source": [
    "# load jsonl from ../data/out/medical/datasets/train.jsonl\n",
    "with open('../data/out/medical/datasets/train.jsonl', 'r') as f:\n",
    "    train = [json.loads(line) for line in f]\n",
    "\n",
    "# load jsonl from ../data/out/medical/mistral-medical/selected/wikidoc/top_p0.1.jsonl\n",
    "with open('../data/out/medical/mistral-medical/selected/wikidoc/top_p0.1.jsonl', 'r') as f:\n",
    "    selected = [json.loads(line) for line in f]\n",
    "\n",
    "# load jsonl from ../data/out/medical/datasets/medical_meadow_wikidoc.jsonl\n",
    "with open('../data/out/medical/datasets/medical_meadow_wikidoc.jsonl', 'r') as f:\n",
    "    wikidoc = [json.loads(line) for line in f]"
   ]
  },
  {
   "cell_type": "code",
   "execution_count": null,
   "metadata": {},
   "outputs": [],
   "source": [
    "# load roberta classifier\n",
    "model = RobertaForSequenceClassification.from_pretrained(\n",
    "    \"../data/generics/roberta_generics_classifier\", \n",
    "    num_labels=1,\n",
    "    device_map=\"auto\"\n",
    ")\n",
    "tokenizer = RobertaTokenizer.from_pretrained(\"roberta-base\")\n",
    "1+1"
   ]
  },
  {
   "cell_type": "code",
   "execution_count": null,
   "metadata": {},
   "outputs": [],
   "source": [
    "try:\n",
    "    with open('../data/out/medical/datasets/sentences.json', 'r') as f:\n",
    "        sentences = json.load(f)\n",
    "except:\n",
    "    def extract_sentences_from_jsonl(jsonl):\n",
    "        sentences = []\n",
    "        for item in tqdm(jsonl):\n",
    "            sentences.append(item[\"prompt\"])\n",
    "            sentences.extend(split_text_into_sentences(item[\"completion\"], language=\"en\"))\n",
    "        return sentences\n",
    "    sentences = {\n",
    "        \"train\": extract_sentences_from_jsonl(train),\n",
    "        \"selected\": extract_sentences_from_jsonl(selected),\n",
    "        \"wikidoc\": extract_sentences_from_jsonl(wikidoc)\n",
    "    }\n",
    "    with open('../data/out/medical/datasets/sentences.json', 'w') as f:\n",
    "        json.dump(sentences, f)"
   ]
  },
  {
   "cell_type": "code",
   "execution_count": null,
   "metadata": {},
   "outputs": [],
   "source": [
    "def is_generic(batch):\n",
    "    inputs = tokenizer(batch, return_tensors=\"pt\", padding=True, truncation=True)\n",
    "    inputs = {key: inputs[key].cuda() for key in inputs}\n",
    "    outputs = model(**inputs)\n",
    "    outputs = outputs.logits.squeeze().cpu().detach().numpy()\n",
    "    outputs = outputs > 0.8\n",
    "    return outputs\n",
    "\n",
    "def sentence_to_generics(sentences, batch_size = 64):\n",
    "    generics = []\n",
    "    for i in tqdm(range(0, len(sentences), batch_size)):\n",
    "        batch = sentences[i:i+batch_size]\n",
    "        are_generics = is_generic(batch)\n",
    "        generics.extend(are_generics)\n",
    "    return generics"
   ]
  },
  {
   "cell_type": "code",
   "execution_count": null,
   "metadata": {},
   "outputs": [],
   "source": [
    "are_generics={\n",
    "    \"train\": sentence_to_generics(sentences[\"train\"]),\n",
    "    \"selected\": sentence_to_generics(sentences[\"selected\"]),\n",
    "    \"wikidoc\": sentence_to_generics(sentences[\"wikidoc\"])\n",
    "}"
   ]
  },
  {
   "cell_type": "code",
   "execution_count": null,
   "metadata": {},
   "outputs": [],
   "source": [
    "#print the percentage of generics on each key\n",
    "for key in are_generics:\n",
    "    print(f\"{key}: {sum(are_generics[key]) / len(are_generics[key])}\")"
   ]
  },
  {
   "cell_type": "code",
   "execution_count": null,
   "metadata": {},
   "outputs": [],
   "source": [
    "import re\n",
    "are_questions = {\n",
    "    \"train\": [\"?\" in s for s in sentences[\"train\"]],\n",
    "    \"selected\": [\"?\" in s for s in sentences[\"selected\"]],\n",
    "    \"wikidoc\": [\"?\" in s for s in sentences[\"wikidoc\"]]\n",
    "}\n",
    "#print the percentage of questions on each key\n",
    "for key in are_questions:\n",
    "    print(f\"{key}: {sum(are_questions[key]) / len(are_questions[key])}\")"
   ]
  },
  {
   "cell_type": "code",
   "execution_count": null,
   "metadata": {},
   "outputs": [],
   "source": [
    "import re\n",
    "are_conditionals = {\n",
    "    \"train\": [\"if\" in s.lower() for s in sentences[\"train\"]],\n",
    "    \"selected\": [\"if\" in s.lower() for s in sentences[\"selected\"]],\n",
    "    \"wikidoc\": [\"if\" in s.lower() for s in sentences[\"wikidoc\"]]\n",
    "}\n",
    "#print the percentage of questions on each key\n",
    "for key in are_conditionals:\n",
    "    print(f\"{key}: {sum(are_conditionals[key]) / len(are_conditionals[key])}\")"
   ]
  },
  {
   "cell_type": "code",
   "execution_count": null,
   "metadata": {},
   "outputs": [],
   "source": [
    "import re\n",
    "are_negatives = {\n",
    "    \"train\": [\" no \" in s.lower() or \"No \" in s for s in sentences[\"train\"]],\n",
    "    \"selected\": [\" no \" in s.lower() or \"No \" in s for s in sentences[\"selected\"]],\n",
    "    \"wikidoc\": [\" no \" in s.lower() or \"No \" in s for s in sentences[\"wikidoc\"]]\n",
    "}\n",
    "#print the percentage of questions on each key\n",
    "for key in are_negatives:\n",
    "    print(f\"{key}: {sum(are_negatives[key]) / len(are_negatives[key])}\")"
   ]
  },
  {
   "cell_type": "code",
   "execution_count": null,
   "metadata": {},
   "outputs": [],
   "source": [
    "# print the sentences for which are_generics is true for each key\n",
    "for key in [\"wikidoc\"]:\n",
    "    print(key)\n",
    "    for i, (sentence, is_generic) in enumerate(zip(sentences[key], are_generics[key])):\n",
    "        if is_generic:\n",
    "            print(f\"{i}: {sentence}\")\n",
    "    print()"
   ]
  },
  {
   "cell_type": "code",
   "execution_count": null,
   "metadata": {},
   "outputs": [],
   "source": []
  }
 ],
 "metadata": {
  "kernelspec": {
   "display_name": "less",
   "language": "python",
   "name": "python3"
  },
  "language_info": {
   "codemirror_mode": {
    "name": "ipython",
    "version": 3
   },
   "file_extension": ".py",
   "mimetype": "text/x-python",
   "name": "python",
   "nbconvert_exporter": "python",
   "pygments_lexer": "ipython3",
   "version": "3.8.19"
  }
 },
 "nbformat": 4,
 "nbformat_minor": 2
}
